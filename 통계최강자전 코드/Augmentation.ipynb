{
 "cells": [
  {
   "cell_type": "code",
   "execution_count": 2,
   "id": "1234917a",
   "metadata": {},
   "outputs": [],
   "source": [
    "from tabgan.sampler import OriginalGenerator\n",
    "from imblearn.over_sampling import RandomOverSampler, SMOTE\n",
    "\n",
    "import pandas as pd\n",
    "import numpy as np"
   ]
  },
  {
   "cell_type": "code",
   "execution_count": null,
   "id": "95102ab9",
   "metadata": {},
   "outputs": [],
   "source": [
    "for m in [\"CAT \", \"LGBM \", \"RF \", \"LR \", \"SGD \"]:\n",
    "    for l1 in [\"o\", \"v\"]:\n",
    "        for l2 in [\"i\", \"f\"]:\n",
    "            for n in range(1, 5):\n",
    "                DATA_PATH = m + l1 + l2 + \"_train\" + str(n) + \"-0-filtered.csv\"\n",
    "                df = pd.read_csv(DATA_PATH)\n",
    "                train, test = df.iloc[:, :-1], df.iloc[:, :-1]\n",
    "                target = df.iloc[:, -1]\n",
    "                new_train, new_target = OriginalGenerator().generate_data_pipe(train, pd.DataFrame(target), test)\n",
    "\n",
    "                idx = 7\n",
    "                _max, _min = df.target.value_counts()[0], df.target.value_counts()[1]\n",
    "                target = [_max - _min, int(0.8 * _max) - _min, int(0.6 * _max) - _min]\n",
    "                ndf = pd.concat([new_train, new_target], axis = 1)\n",
    "                ndf = ndf[ndf[\"target\"] == 1]\n",
    "                for tg in target:\n",
    "                    ndf = ndf.sample(frac = 1)\n",
    "                    if len(ndf) >= tg: ndf = ndf.iloc[:tg, :]\n",
    "                    temp = pd.concat([df, ndf], axis = 0)\n",
    "                    temp = temp.sample(frac = 1)\n",
    "                    temp.to_csv(DATA_PATH[:-15] + \"-\" + str(idx) + \".csv\", index = False)\n",
    "                    idx += 1"
   ]
  },
  {
   "cell_type": "code",
   "execution_count": 11,
   "id": "aa7fda11",
   "metadata": {},
   "outputs": [],
   "source": [
    "for m in [\"CAT \", \"LGBM \", \"RF \", \"LR \", \"SGD \"]:\n",
    "    for l1 in [\"o\", \"v\"]:\n",
    "        for l2 in [\"i\", \"f\"]:\n",
    "            for n in range(1, 5):\n",
    "                DATA_PATH = m + l1 + l2 + \"_train\" + str(n) + \"-0-filtered.csv\"\n",
    "                df = pd.read_csv(DATA_PATH)\n",
    "                ros = RandomOverSampler(random_state = 24)\n",
    "                X, y = df.drop([\"target\"], axis = 1), df[\"target\"]\n",
    "                X_ros, y_ros = ros.fit_resample(X, y)\n",
    "\n",
    "                ratio = [1.0, 0.8, 0.6]\n",
    "\n",
    "                idx = list(np.where(y_ros == 0)[0])\n",
    "                idx2 = list(np.where(y_ros == 1)[0])\n",
    "                flag = 1\n",
    "                for r in ratio:\n",
    "                    key = int(len(idx2) * r)\n",
    "                    temp_X = X_ros.loc[idx + idx2[:key], :]\n",
    "                    temp_y = y_ros[idx + idx2[:key]]\n",
    "                    temp = pd.concat([temp_X, pd.DataFrame(temp_y)], axis = 1)\n",
    "                    temp.to_csv(DATA_PATH[:-15] + \"-\" + str(flag) + \".csv\", index = False)\n",
    "                    flag += 1"
   ]
  },
  {
   "cell_type": "code",
   "execution_count": 12,
   "id": "793d9217",
   "metadata": {},
   "outputs": [],
   "source": [
    "for m in [\"CAT \", \"LGBM \", \"RF \", \"LR \", \"SGD \"]:\n",
    "    for l1 in [\"o\", \"v\"]:\n",
    "        for l2 in [\"i\", \"f\"]:\n",
    "            for n in range(1, 5):\n",
    "                DATA_PATH = m + l1 + l2 + \"_train\" + str(n) + \"-0-filtered.csv\"\n",
    "                df = pd.read_csv(DATA_PATH)\n",
    "                X, y = df.drop([\"target\"], axis = 1), df[\"target\"]\n",
    "\n",
    "                idx = 4\n",
    "                for r in [1, 0.8, 0.6]:\n",
    "                    smote = SMOTE(random_state = 24, sampling_strategy = r)\n",
    "                    X_smote, y_smote = smote.fit_resample(X, y)\n",
    "                    temp = pd.concat([X_smote, pd.DataFrame(y_smote)], axis = 1)\n",
    "                    temp.to_csv(DATA_PATH[:-15] + \"-\" + str(idx) + \".csv\")\n",
    "                    idx += 1"
   ]
  },
  {
   "cell_type": "code",
   "execution_count": 1,
   "id": "3353f693",
   "metadata": {},
   "outputs": [
    {
     "ename": "NameError",
     "evalue": "name 'pd' is not defined",
     "output_type": "error",
     "traceback": [
      "\u001b[0;31m---------------------------------------------------------------------------\u001b[0m",
      "\u001b[0;31mNameError\u001b[0m                                 Traceback (most recent call last)",
      "\u001b[0;32m<ipython-input-1-fc72b2690ec5>\u001b[0m in \u001b[0;36m<module>\u001b[0;34m\u001b[0m\n\u001b[1;32m      4\u001b[0m             \u001b[0;32mfor\u001b[0m \u001b[0mn\u001b[0m \u001b[0;32min\u001b[0m \u001b[0mrange\u001b[0m\u001b[0;34m(\u001b[0m\u001b[0;36m1\u001b[0m\u001b[0;34m,\u001b[0m \u001b[0;36m5\u001b[0m\u001b[0;34m)\u001b[0m\u001b[0;34m:\u001b[0m\u001b[0;34m\u001b[0m\u001b[0;34m\u001b[0m\u001b[0m\n\u001b[1;32m      5\u001b[0m                 \u001b[0mDATA_PATH\u001b[0m \u001b[0;34m=\u001b[0m \u001b[0mm\u001b[0m \u001b[0;34m+\u001b[0m \u001b[0ml1\u001b[0m \u001b[0;34m+\u001b[0m \u001b[0ml2\u001b[0m \u001b[0;34m+\u001b[0m \u001b[0;34m\"_train\"\u001b[0m \u001b[0;34m+\u001b[0m \u001b[0mstr\u001b[0m\u001b[0;34m(\u001b[0m\u001b[0mn\u001b[0m\u001b[0;34m)\u001b[0m \u001b[0;34m+\u001b[0m \u001b[0;34m\"-0-filtered.csv\"\u001b[0m\u001b[0;34m\u001b[0m\u001b[0;34m\u001b[0m\u001b[0m\n\u001b[0;32m----> 6\u001b[0;31m                 \u001b[0mdf\u001b[0m \u001b[0;34m=\u001b[0m \u001b[0mpd\u001b[0m\u001b[0;34m.\u001b[0m\u001b[0mread_csv\u001b[0m\u001b[0;34m(\u001b[0m\u001b[0mDATA_PATH\u001b[0m\u001b[0;34m)\u001b[0m\u001b[0;34m\u001b[0m\u001b[0;34m\u001b[0m\u001b[0m\n\u001b[0m\u001b[1;32m      7\u001b[0m                 \u001b[0mtrain\u001b[0m\u001b[0;34m,\u001b[0m \u001b[0mtest\u001b[0m \u001b[0;34m=\u001b[0m \u001b[0mdf\u001b[0m\u001b[0;34m.\u001b[0m\u001b[0miloc\u001b[0m\u001b[0;34m[\u001b[0m\u001b[0;34m:\u001b[0m\u001b[0;34m,\u001b[0m \u001b[0;34m:\u001b[0m\u001b[0;34m-\u001b[0m\u001b[0;36m1\u001b[0m\u001b[0;34m]\u001b[0m\u001b[0;34m,\u001b[0m \u001b[0mdf\u001b[0m\u001b[0;34m.\u001b[0m\u001b[0miloc\u001b[0m\u001b[0;34m[\u001b[0m\u001b[0;34m:\u001b[0m\u001b[0;34m,\u001b[0m \u001b[0;34m:\u001b[0m\u001b[0;34m-\u001b[0m\u001b[0;36m1\u001b[0m\u001b[0;34m]\u001b[0m\u001b[0;34m\u001b[0m\u001b[0;34m\u001b[0m\u001b[0m\n\u001b[1;32m      8\u001b[0m                 \u001b[0mtarget\u001b[0m \u001b[0;34m=\u001b[0m \u001b[0mdf\u001b[0m\u001b[0;34m.\u001b[0m\u001b[0miloc\u001b[0m\u001b[0;34m[\u001b[0m\u001b[0;34m:\u001b[0m\u001b[0;34m,\u001b[0m \u001b[0;34m-\u001b[0m\u001b[0;36m1\u001b[0m\u001b[0;34m]\u001b[0m\u001b[0;34m\u001b[0m\u001b[0;34m\u001b[0m\u001b[0m\n",
      "\u001b[0;31mNameError\u001b[0m: name 'pd' is not defined"
     ]
    }
   ],
   "source": [
    "for m in [\"CAT \", \"LGBM \", \"RF \", \"LR \", \"SGD \"]:\n",
    "    for l1 in [\"o\", \"v\"]:\n",
    "        for l2 in [\"i\", \"f\"]:\n",
    "            for n in range(1, 5):\n",
    "                DATA_PATH = m + l1 + l2 + \"_train\" + str(n) + \"-0-filtered.csv\"\n",
    "                df = pd.read_csv(DATA_PATH)\n",
    "                train, test = df.iloc[:, :-1], df.iloc[:, :-1]\n",
    "                target = df.iloc[:, -1]\n",
    "                new_train, new_target = OriginalGenerator().generate_data_pipe(train, pd.DataFrame(target), test)\n",
    "\n",
    "                idx = 7\n",
    "                _max, _min = df.target.value_counts()[0], df.target.value_counts()[1]\n",
    "                target = [_max - _min, int(0.8 * _max) - _min, int(0.6 * _max) - _min]\n",
    "                ndf = pd.concat([new_train, new_target], axis = 1)\n",
    "                ndf = ndf[ndf[\"target\"] == 1]\n",
    "                for tg in target:\n",
    "                    ndf = ndf.sample(frac = 1)\n",
    "                    if len(ndf) >= tg: ndf = ndf.iloc[:tg, :]\n",
    "                    temp = pd.concat([df, ndf], axis = 0)\n",
    "                    temp = temp.sample(frac = 1)\n",
    "                    temp.to_csv(DATA_PATH[:-15] + \"-\" + str(idx) + \".csv\", index = False)\n",
    "                    idx += 1"
   ]
  },
  {
   "cell_type": "code",
   "execution_count": null,
   "id": "65dc141b",
   "metadata": {},
   "outputs": [],
   "source": []
  }
 ],
 "metadata": {
  "kernelspec": {
   "display_name": "Python 3 (ipykernel)",
   "language": "python",
   "name": "python3"
  },
  "language_info": {
   "codemirror_mode": {
    "name": "ipython",
    "version": 3
   },
   "file_extension": ".py",
   "mimetype": "text/x-python",
   "name": "python",
   "nbconvert_exporter": "python",
   "pygments_lexer": "ipython3",
   "version": "3.7.10"
  }
 },
 "nbformat": 4,
 "nbformat_minor": 5
}
